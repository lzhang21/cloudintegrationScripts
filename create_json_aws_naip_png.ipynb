{
 "cells": [
  {
   "cell_type": "code",
   "execution_count": 2,
   "metadata": {},
   "outputs": [],
   "source": [
    "import boto3\n",
    "import os\n",
    "from dotenv import load_dotenv\n",
    "import json\n",
    "import re\n",
    "import pandas as pd"
   ]
  },
  {
   "cell_type": "code",
   "execution_count": 3,
   "metadata": {},
   "outputs": [],
   "source": [
    "# set variables\n",
    "load_dotenv()\n",
    "name = 'lb-luzhang' # bucket name\n",
    "access_key = os.environ.get(\"AWS_ACCESS_KEY_ID\")\n",
    "secret_access_key = os.environ.get(\"AWS_SECRET_ACCESS_KEY\")\n",
    "region = os.environ.get(\"AWS_DEFAULT_REGION\")\n",
    "lbx_API = os.environ.get('LABELBOX_API')"
   ]
  },
  {
   "cell_type": "code",
   "execution_count": 4,
   "metadata": {},
   "outputs": [
    {
     "name": "stdout",
     "output_type": "stream",
     "text": [
      "s3.ServiceResource()\n",
      "s3.Bucket(name='lb-luzhang')\n"
     ]
    }
   ],
   "source": [
    "# initiate AWS session \n",
    "session = boto3.Session(\n",
    "    aws_access_key_id=access_key,\n",
    "    aws_secret_access_key=secret_access_key,\n",
    ")\n",
    "\n",
    "s3_resource = session.resource('s3')\n",
    "bucket = s3_resource.Bucket(name)\n",
    "\n",
    "print(s3_resource)\n",
    "print(bucket)"
   ]
  },
  {
   "cell_type": "code",
   "execution_count": 5,
   "metadata": {},
   "outputs": [],
   "source": [
    "# get corresponding file names\n",
    "image_list = [\"https://\"+ name + \".s3.us-east-1.amazonaws.com/\" +obj.key for obj in bucket.objects.all() if \"imagery/images\" in obj.key and not \"xml\" in obj.key and \"png\" in obj.key]\n",
    "xml_list = [\"https://\"+ name + \".s3.us-east-1.amazonaws.com/\" +obj.key for obj in bucket.objects.all() if \"imagery/images\" in obj.key and \"xml\" in obj.key]\n",
    "row_list = [obj.key for obj in bucket.objects.all() if \"imagery/images\" in obj.key and \"xml\" in obj.key] \n",
    "x_grid  = [row.split(\"_\")[1] for row in row_list]\n",
    "y_grid  = [re.sub(r'\\D','',row.split(\"_\")[2]) for row in row_list]"
   ]
  },
  {
   "cell_type": "code",
   "execution_count": 6,
   "metadata": {},
   "outputs": [
    {
     "data": {
      "text/html": [
       "<div>\n",
       "<style scoped>\n",
       "    .dataframe tbody tr th:only-of-type {\n",
       "        vertical-align: middle;\n",
       "    }\n",
       "\n",
       "    .dataframe tbody tr th {\n",
       "        vertical-align: top;\n",
       "    }\n",
       "\n",
       "    .dataframe thead th {\n",
       "        text-align: right;\n",
       "    }\n",
       "</style>\n",
       "<table border=\"1\" class=\"dataframe\">\n",
       "  <thead>\n",
       "    <tr style=\"text-align: right;\">\n",
       "      <th></th>\n",
       "      <th>data</th>\n",
       "      <th>xml_path</th>\n",
       "      <th>file_name</th>\n",
       "      <th>x_grid</th>\n",
       "      <th>y_grid</th>\n",
       "    </tr>\n",
       "  </thead>\n",
       "  <tbody>\n",
       "    <tr>\n",
       "      <th>0</th>\n",
       "      <td>https://lb-luzhang.s3.us-east-1.amazonaws.com/...</td>\n",
       "      <td>https://lb-luzhang.s3.us-east-1.amazonaws.com/...</td>\n",
       "      <td>imagery/images/output_0_0.png.aux.xml</td>\n",
       "      <td>0</td>\n",
       "      <td>0</td>\n",
       "    </tr>\n",
       "    <tr>\n",
       "      <th>1</th>\n",
       "      <td>https://lb-luzhang.s3.us-east-1.amazonaws.com/...</td>\n",
       "      <td>https://lb-luzhang.s3.us-east-1.amazonaws.com/...</td>\n",
       "      <td>imagery/images/output_0_1.png.aux.xml</td>\n",
       "      <td>0</td>\n",
       "      <td>1</td>\n",
       "    </tr>\n",
       "    <tr>\n",
       "      <th>2</th>\n",
       "      <td>https://lb-luzhang.s3.us-east-1.amazonaws.com/...</td>\n",
       "      <td>https://lb-luzhang.s3.us-east-1.amazonaws.com/...</td>\n",
       "      <td>imagery/images/output_0_10.png.aux.xml</td>\n",
       "      <td>0</td>\n",
       "      <td>10</td>\n",
       "    </tr>\n",
       "    <tr>\n",
       "      <th>3</th>\n",
       "      <td>https://lb-luzhang.s3.us-east-1.amazonaws.com/...</td>\n",
       "      <td>https://lb-luzhang.s3.us-east-1.amazonaws.com/...</td>\n",
       "      <td>imagery/images/output_0_11.png.aux.xml</td>\n",
       "      <td>0</td>\n",
       "      <td>11</td>\n",
       "    </tr>\n",
       "    <tr>\n",
       "      <th>4</th>\n",
       "      <td>https://lb-luzhang.s3.us-east-1.amazonaws.com/...</td>\n",
       "      <td>https://lb-luzhang.s3.us-east-1.amazonaws.com/...</td>\n",
       "      <td>imagery/images/output_0_2.png.aux.xml</td>\n",
       "      <td>0</td>\n",
       "      <td>2</td>\n",
       "    </tr>\n",
       "    <tr>\n",
       "      <th>5</th>\n",
       "      <td>https://lb-luzhang.s3.us-east-1.amazonaws.com/...</td>\n",
       "      <td>https://lb-luzhang.s3.us-east-1.amazonaws.com/...</td>\n",
       "      <td>imagery/images/output_0_3.png.aux.xml</td>\n",
       "      <td>0</td>\n",
       "      <td>3</td>\n",
       "    </tr>\n",
       "    <tr>\n",
       "      <th>6</th>\n",
       "      <td>https://lb-luzhang.s3.us-east-1.amazonaws.com/...</td>\n",
       "      <td>https://lb-luzhang.s3.us-east-1.amazonaws.com/...</td>\n",
       "      <td>imagery/images/output_0_4.png.aux.xml</td>\n",
       "      <td>0</td>\n",
       "      <td>4</td>\n",
       "    </tr>\n",
       "    <tr>\n",
       "      <th>7</th>\n",
       "      <td>https://lb-luzhang.s3.us-east-1.amazonaws.com/...</td>\n",
       "      <td>https://lb-luzhang.s3.us-east-1.amazonaws.com/...</td>\n",
       "      <td>imagery/images/output_0_5.png.aux.xml</td>\n",
       "      <td>0</td>\n",
       "      <td>5</td>\n",
       "    </tr>\n",
       "    <tr>\n",
       "      <th>8</th>\n",
       "      <td>https://lb-luzhang.s3.us-east-1.amazonaws.com/...</td>\n",
       "      <td>https://lb-luzhang.s3.us-east-1.amazonaws.com/...</td>\n",
       "      <td>imagery/images/output_0_6.png.aux.xml</td>\n",
       "      <td>0</td>\n",
       "      <td>6</td>\n",
       "    </tr>\n",
       "    <tr>\n",
       "      <th>9</th>\n",
       "      <td>https://lb-luzhang.s3.us-east-1.amazonaws.com/...</td>\n",
       "      <td>https://lb-luzhang.s3.us-east-1.amazonaws.com/...</td>\n",
       "      <td>imagery/images/output_0_7.png.aux.xml</td>\n",
       "      <td>0</td>\n",
       "      <td>7</td>\n",
       "    </tr>\n",
       "    <tr>\n",
       "      <th>10</th>\n",
       "      <td>https://lb-luzhang.s3.us-east-1.amazonaws.com/...</td>\n",
       "      <td>https://lb-luzhang.s3.us-east-1.amazonaws.com/...</td>\n",
       "      <td>imagery/images/output_0_8.png.aux.xml</td>\n",
       "      <td>0</td>\n",
       "      <td>8</td>\n",
       "    </tr>\n",
       "    <tr>\n",
       "      <th>11</th>\n",
       "      <td>https://lb-luzhang.s3.us-east-1.amazonaws.com/...</td>\n",
       "      <td>https://lb-luzhang.s3.us-east-1.amazonaws.com/...</td>\n",
       "      <td>imagery/images/output_0_9.png.aux.xml</td>\n",
       "      <td>0</td>\n",
       "      <td>9</td>\n",
       "    </tr>\n",
       "  </tbody>\n",
       "</table>\n",
       "</div>"
      ],
      "text/plain": [
       "                                                 data  \\\n",
       "0   https://lb-luzhang.s3.us-east-1.amazonaws.com/...   \n",
       "1   https://lb-luzhang.s3.us-east-1.amazonaws.com/...   \n",
       "2   https://lb-luzhang.s3.us-east-1.amazonaws.com/...   \n",
       "3   https://lb-luzhang.s3.us-east-1.amazonaws.com/...   \n",
       "4   https://lb-luzhang.s3.us-east-1.amazonaws.com/...   \n",
       "5   https://lb-luzhang.s3.us-east-1.amazonaws.com/...   \n",
       "6   https://lb-luzhang.s3.us-east-1.amazonaws.com/...   \n",
       "7   https://lb-luzhang.s3.us-east-1.amazonaws.com/...   \n",
       "8   https://lb-luzhang.s3.us-east-1.amazonaws.com/...   \n",
       "9   https://lb-luzhang.s3.us-east-1.amazonaws.com/...   \n",
       "10  https://lb-luzhang.s3.us-east-1.amazonaws.com/...   \n",
       "11  https://lb-luzhang.s3.us-east-1.amazonaws.com/...   \n",
       "\n",
       "                                             xml_path  \\\n",
       "0   https://lb-luzhang.s3.us-east-1.amazonaws.com/...   \n",
       "1   https://lb-luzhang.s3.us-east-1.amazonaws.com/...   \n",
       "2   https://lb-luzhang.s3.us-east-1.amazonaws.com/...   \n",
       "3   https://lb-luzhang.s3.us-east-1.amazonaws.com/...   \n",
       "4   https://lb-luzhang.s3.us-east-1.amazonaws.com/...   \n",
       "5   https://lb-luzhang.s3.us-east-1.amazonaws.com/...   \n",
       "6   https://lb-luzhang.s3.us-east-1.amazonaws.com/...   \n",
       "7   https://lb-luzhang.s3.us-east-1.amazonaws.com/...   \n",
       "8   https://lb-luzhang.s3.us-east-1.amazonaws.com/...   \n",
       "9   https://lb-luzhang.s3.us-east-1.amazonaws.com/...   \n",
       "10  https://lb-luzhang.s3.us-east-1.amazonaws.com/...   \n",
       "11  https://lb-luzhang.s3.us-east-1.amazonaws.com/...   \n",
       "\n",
       "                                 file_name x_grid y_grid  \n",
       "0    imagery/images/output_0_0.png.aux.xml      0      0  \n",
       "1    imagery/images/output_0_1.png.aux.xml      0      1  \n",
       "2   imagery/images/output_0_10.png.aux.xml      0     10  \n",
       "3   imagery/images/output_0_11.png.aux.xml      0     11  \n",
       "4    imagery/images/output_0_2.png.aux.xml      0      2  \n",
       "5    imagery/images/output_0_3.png.aux.xml      0      3  \n",
       "6    imagery/images/output_0_4.png.aux.xml      0      4  \n",
       "7    imagery/images/output_0_5.png.aux.xml      0      5  \n",
       "8    imagery/images/output_0_6.png.aux.xml      0      6  \n",
       "9    imagery/images/output_0_7.png.aux.xml      0      7  \n",
       "10   imagery/images/output_0_8.png.aux.xml      0      8  \n",
       "11   imagery/images/output_0_9.png.aux.xml      0      9  "
      ]
     },
     "execution_count": 6,
     "metadata": {},
     "output_type": "execute_result"
    }
   ],
   "source": [
    "df_list = [image_list, xml_list, row_list, x_grid, y_grid]\n",
    "df = pd.DataFrame(df_list).transpose()\n",
    "df.columns = (\"data\", \"xml_path\", \"file_name\", \"x_grid\", \"y_grid\")\n",
    "df"
   ]
  },
  {
   "cell_type": "code",
   "execution_count": 8,
   "metadata": {},
   "outputs": [],
   "source": [
    "import labelbox as lb\n",
    "\n",
    "client = lb.Client(api_key=lbx_API)\n",
    "dataset = client.create_dataset(name=\"S3_NAIP\")"
   ]
  },
  {
   "cell_type": "code",
   "execution_count": 10,
   "metadata": {},
   "outputs": [
    {
     "data": {
      "text/plain": [
       "[{'row_data': 'https://lb-luzhang.s3.us-east-1.amazonaws.com/imagery/images/output_0_0.png'},\n",
       " {'row_data': 'https://lb-luzhang.s3.us-east-1.amazonaws.com/imagery/images/output_0_1.png'},\n",
       " {'row_data': 'https://lb-luzhang.s3.us-east-1.amazonaws.com/imagery/images/output_0_10.png'},\n",
       " {'row_data': 'https://lb-luzhang.s3.us-east-1.amazonaws.com/imagery/images/output_0_11.png'},\n",
       " {'row_data': 'https://lb-luzhang.s3.us-east-1.amazonaws.com/imagery/images/output_0_2.png'},\n",
       " {'row_data': 'https://lb-luzhang.s3.us-east-1.amazonaws.com/imagery/images/output_0_3.png'},\n",
       " {'row_data': 'https://lb-luzhang.s3.us-east-1.amazonaws.com/imagery/images/output_0_4.png'},\n",
       " {'row_data': 'https://lb-luzhang.s3.us-east-1.amazonaws.com/imagery/images/output_0_5.png'},\n",
       " {'row_data': 'https://lb-luzhang.s3.us-east-1.amazonaws.com/imagery/images/output_0_6.png'},\n",
       " {'row_data': 'https://lb-luzhang.s3.us-east-1.amazonaws.com/imagery/images/output_0_7.png'},\n",
       " {'row_data': 'https://lb-luzhang.s3.us-east-1.amazonaws.com/imagery/images/output_0_8.png'},\n",
       " {'row_data': 'https://lb-luzhang.s3.us-east-1.amazonaws.com/imagery/images/output_0_9.png'}]"
      ]
     },
     "execution_count": 10,
     "metadata": {},
     "output_type": "execute_result"
    }
   ],
   "source": [
    "for index, row in df.iterrows():\n",
    "\n",
    "    asset = {\n",
    "        \"row_data\": row[0],\n",
    "        \"global_key\": row[0],\n",
    "        \"media_type\": \"IMAGE\",\n",
    "        \"metadata_fields\": [{\"name\": \"XML\", \"value\": row[1]}, {\"name\": \"x\", \"value\": row[3]}, {\"name\": \"y\", \"value\": row[4]}]\n",
    "    }"
   ]
  },
  {
   "cell_type": "markdown",
   "metadata": {},
   "source": []
  },
  {
   "cell_type": "code",
   "execution_count": null,
   "metadata": {},
   "outputs": [],
   "source": []
  }
 ],
 "metadata": {
  "kernelspec": {
   "display_name": "lb_env",
   "language": "python",
   "name": "python3"
  },
  "language_info": {
   "codemirror_mode": {
    "name": "ipython",
    "version": 3
   },
   "file_extension": ".py",
   "mimetype": "text/x-python",
   "name": "python",
   "nbconvert_exporter": "python",
   "pygments_lexer": "ipython3",
   "version": "3.11.5"
  },
  "orig_nbformat": 4
 },
 "nbformat": 4,
 "nbformat_minor": 2
}
