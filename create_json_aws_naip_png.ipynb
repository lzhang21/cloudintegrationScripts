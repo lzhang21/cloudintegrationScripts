{
 "cells": [
  {
   "cell_type": "code",
   "execution_count": 45,
   "metadata": {},
   "outputs": [],
   "source": [
    "import boto3\n",
    "import os\n",
    "from dotenv import load_dotenv\n",
    "import json\n",
    "import re\n",
    "import pandas as pd"
   ]
  },
  {
   "cell_type": "code",
   "execution_count": 46,
   "metadata": {},
   "outputs": [],
   "source": [
    "# set variables\n",
    "load_dotenv()\n",
    "name = 'lb-luzhang' # bucket name\n",
    "access_key = os.environ.get(\"AWS_ACCESS_KEY_ID\")\n",
    "secret_access_key = os.environ.get(\"AWS_SECRET_ACCESS_KEY\")\n",
    "region = os.environ.get(\"AWS_DEFAULT_REGION\")\n",
    "lbx_API = os.environ.get('LABELBOX_API')"
   ]
  },
  {
   "cell_type": "code",
   "execution_count": 47,
   "metadata": {},
   "outputs": [
    {
     "name": "stdout",
     "output_type": "stream",
     "text": [
      "s3.ServiceResource()\n",
      "s3.Bucket(name='lb-luzhang')\n"
     ]
    }
   ],
   "source": [
    "# initiate AWS session \n",
    "session = boto3.Session(\n",
    "    aws_access_key_id=access_key,\n",
    "    aws_secret_access_key=secret_access_key,\n",
    ")\n",
    "\n",
    "s3_resource = session.resource('s3')\n",
    "bucket = s3_resource.Bucket(name)\n",
    "\n",
    "print(s3_resource)\n",
    "print(bucket)"
   ]
  },
  {
   "cell_type": "code",
   "execution_count": 48,
   "metadata": {},
   "outputs": [],
   "source": [
    "# get corresponding file names\n",
    "image_list = [\"https://\"+ name + \".s3.us-east-1.amazonaws.com/\" +obj.key for obj in bucket.objects.all() if \"imagery/images\" in obj.key and not \"xml\" in obj.key and \"png\" in obj.key]\n",
    "xml_list = [\"https://\"+ name + \".s3.us-east-1.amazonaws.com/\" +obj.key for obj in bucket.objects.all() if \"imagery/images\" in obj.key and \"xml\" in obj.key]\n",
    "row_list = [obj.key for obj in bucket.objects.all() if \"imagery/images\" in obj.key and \"xml\" in obj.key] \n",
    "x_grid  = [row.split(\"_\")[1] for row in row_list]\n",
    "y_grid  = [re.sub(r'\\D','',row.split(\"_\")[2]) for row in row_list]"
   ]
  },
  {
   "cell_type": "code",
   "execution_count": 49,
   "metadata": {},
   "outputs": [
    {
     "data": {
      "text/html": [
       "<div>\n",
       "<style scoped>\n",
       "    .dataframe tbody tr th:only-of-type {\n",
       "        vertical-align: middle;\n",
       "    }\n",
       "\n",
       "    .dataframe tbody tr th {\n",
       "        vertical-align: top;\n",
       "    }\n",
       "\n",
       "    .dataframe thead th {\n",
       "        text-align: right;\n",
       "    }\n",
       "</style>\n",
       "<table border=\"1\" class=\"dataframe\">\n",
       "  <thead>\n",
       "    <tr style=\"text-align: right;\">\n",
       "      <th></th>\n",
       "      <th>data</th>\n",
       "      <th>xml_path</th>\n",
       "      <th>file_name</th>\n",
       "      <th>x_grid</th>\n",
       "      <th>y_grid</th>\n",
       "    </tr>\n",
       "  </thead>\n",
       "  <tbody>\n",
       "    <tr>\n",
       "      <th>0</th>\n",
       "      <td>https://lb-luzhang.s3.us-east-1.amazonaws.com/...</td>\n",
       "      <td>https://lb-luzhang.s3.us-east-1.amazonaws.com/...</td>\n",
       "      <td>imagery/images/output_0_0.png.aux.xml</td>\n",
       "      <td>0</td>\n",
       "      <td>0</td>\n",
       "    </tr>\n",
       "    <tr>\n",
       "      <th>1</th>\n",
       "      <td>https://lb-luzhang.s3.us-east-1.amazonaws.com/...</td>\n",
       "      <td>https://lb-luzhang.s3.us-east-1.amazonaws.com/...</td>\n",
       "      <td>imagery/images/output_0_1.png.aux.xml</td>\n",
       "      <td>0</td>\n",
       "      <td>1</td>\n",
       "    </tr>\n",
       "    <tr>\n",
       "      <th>2</th>\n",
       "      <td>https://lb-luzhang.s3.us-east-1.amazonaws.com/...</td>\n",
       "      <td>https://lb-luzhang.s3.us-east-1.amazonaws.com/...</td>\n",
       "      <td>imagery/images/output_0_10.png.aux.xml</td>\n",
       "      <td>0</td>\n",
       "      <td>10</td>\n",
       "    </tr>\n",
       "    <tr>\n",
       "      <th>3</th>\n",
       "      <td>https://lb-luzhang.s3.us-east-1.amazonaws.com/...</td>\n",
       "      <td>https://lb-luzhang.s3.us-east-1.amazonaws.com/...</td>\n",
       "      <td>imagery/images/output_0_11.png.aux.xml</td>\n",
       "      <td>0</td>\n",
       "      <td>11</td>\n",
       "    </tr>\n",
       "    <tr>\n",
       "      <th>4</th>\n",
       "      <td>https://lb-luzhang.s3.us-east-1.amazonaws.com/...</td>\n",
       "      <td>https://lb-luzhang.s3.us-east-1.amazonaws.com/...</td>\n",
       "      <td>imagery/images/output_0_12.png.aux.xml</td>\n",
       "      <td>0</td>\n",
       "      <td>12</td>\n",
       "    </tr>\n",
       "    <tr>\n",
       "      <th>...</th>\n",
       "      <td>...</td>\n",
       "      <td>...</td>\n",
       "      <td>...</td>\n",
       "      <td>...</td>\n",
       "      <td>...</td>\n",
       "    </tr>\n",
       "    <tr>\n",
       "      <th>395</th>\n",
       "      <td>https://lb-luzhang.s3.us-east-1.amazonaws.com/...</td>\n",
       "      <td>https://lb-luzhang.s3.us-east-1.amazonaws.com/...</td>\n",
       "      <td>imagery/images/output_9_5.png.aux.xml</td>\n",
       "      <td>9</td>\n",
       "      <td>5</td>\n",
       "    </tr>\n",
       "    <tr>\n",
       "      <th>396</th>\n",
       "      <td>https://lb-luzhang.s3.us-east-1.amazonaws.com/...</td>\n",
       "      <td>https://lb-luzhang.s3.us-east-1.amazonaws.com/...</td>\n",
       "      <td>imagery/images/output_9_6.png.aux.xml</td>\n",
       "      <td>9</td>\n",
       "      <td>6</td>\n",
       "    </tr>\n",
       "    <tr>\n",
       "      <th>397</th>\n",
       "      <td>https://lb-luzhang.s3.us-east-1.amazonaws.com/...</td>\n",
       "      <td>https://lb-luzhang.s3.us-east-1.amazonaws.com/...</td>\n",
       "      <td>imagery/images/output_9_7.png.aux.xml</td>\n",
       "      <td>9</td>\n",
       "      <td>7</td>\n",
       "    </tr>\n",
       "    <tr>\n",
       "      <th>398</th>\n",
       "      <td>https://lb-luzhang.s3.us-east-1.amazonaws.com/...</td>\n",
       "      <td>https://lb-luzhang.s3.us-east-1.amazonaws.com/...</td>\n",
       "      <td>imagery/images/output_9_8.png.aux.xml</td>\n",
       "      <td>9</td>\n",
       "      <td>8</td>\n",
       "    </tr>\n",
       "    <tr>\n",
       "      <th>399</th>\n",
       "      <td>https://lb-luzhang.s3.us-east-1.amazonaws.com/...</td>\n",
       "      <td>https://lb-luzhang.s3.us-east-1.amazonaws.com/...</td>\n",
       "      <td>imagery/images/output_9_9.png.aux.xml</td>\n",
       "      <td>9</td>\n",
       "      <td>9</td>\n",
       "    </tr>\n",
       "  </tbody>\n",
       "</table>\n",
       "<p>400 rows × 5 columns</p>\n",
       "</div>"
      ],
      "text/plain": [
       "                                                  data  \\\n",
       "0    https://lb-luzhang.s3.us-east-1.amazonaws.com/...   \n",
       "1    https://lb-luzhang.s3.us-east-1.amazonaws.com/...   \n",
       "2    https://lb-luzhang.s3.us-east-1.amazonaws.com/...   \n",
       "3    https://lb-luzhang.s3.us-east-1.amazonaws.com/...   \n",
       "4    https://lb-luzhang.s3.us-east-1.amazonaws.com/...   \n",
       "..                                                 ...   \n",
       "395  https://lb-luzhang.s3.us-east-1.amazonaws.com/...   \n",
       "396  https://lb-luzhang.s3.us-east-1.amazonaws.com/...   \n",
       "397  https://lb-luzhang.s3.us-east-1.amazonaws.com/...   \n",
       "398  https://lb-luzhang.s3.us-east-1.amazonaws.com/...   \n",
       "399  https://lb-luzhang.s3.us-east-1.amazonaws.com/...   \n",
       "\n",
       "                                              xml_path  \\\n",
       "0    https://lb-luzhang.s3.us-east-1.amazonaws.com/...   \n",
       "1    https://lb-luzhang.s3.us-east-1.amazonaws.com/...   \n",
       "2    https://lb-luzhang.s3.us-east-1.amazonaws.com/...   \n",
       "3    https://lb-luzhang.s3.us-east-1.amazonaws.com/...   \n",
       "4    https://lb-luzhang.s3.us-east-1.amazonaws.com/...   \n",
       "..                                                 ...   \n",
       "395  https://lb-luzhang.s3.us-east-1.amazonaws.com/...   \n",
       "396  https://lb-luzhang.s3.us-east-1.amazonaws.com/...   \n",
       "397  https://lb-luzhang.s3.us-east-1.amazonaws.com/...   \n",
       "398  https://lb-luzhang.s3.us-east-1.amazonaws.com/...   \n",
       "399  https://lb-luzhang.s3.us-east-1.amazonaws.com/...   \n",
       "\n",
       "                                  file_name x_grid y_grid  \n",
       "0     imagery/images/output_0_0.png.aux.xml      0      0  \n",
       "1     imagery/images/output_0_1.png.aux.xml      0      1  \n",
       "2    imagery/images/output_0_10.png.aux.xml      0     10  \n",
       "3    imagery/images/output_0_11.png.aux.xml      0     11  \n",
       "4    imagery/images/output_0_12.png.aux.xml      0     12  \n",
       "..                                      ...    ...    ...  \n",
       "395   imagery/images/output_9_5.png.aux.xml      9      5  \n",
       "396   imagery/images/output_9_6.png.aux.xml      9      6  \n",
       "397   imagery/images/output_9_7.png.aux.xml      9      7  \n",
       "398   imagery/images/output_9_8.png.aux.xml      9      8  \n",
       "399   imagery/images/output_9_9.png.aux.xml      9      9  \n",
       "\n",
       "[400 rows x 5 columns]"
      ]
     },
     "execution_count": 49,
     "metadata": {},
     "output_type": "execute_result"
    }
   ],
   "source": [
    "df_list = [image_list, xml_list, row_list, x_grid, y_grid]\n",
    "df = pd.DataFrame(df_list).transpose()\n",
    "df.columns = (\"data\", \"xml_path\", \"file_name\", \"x_grid\", \"y_grid\")\n",
    "df = df[df['xml_path'].notnull()]\n",
    "df"
   ]
  },
  {
   "cell_type": "code",
   "execution_count": 52,
   "metadata": {},
   "outputs": [],
   "source": [
    "import labelbox as lb\n",
    "from labelbox.schema.data_row_metadata import DataRowMetadataKind\n",
    "\n",
    "\n",
    "client = lb.Client(api_key=lbx_API)\n",
    "dataset = client.create_dataset(name = 'Test')"
   ]
  },
  {
   "cell_type": "code",
   "execution_count": 53,
   "metadata": {},
   "outputs": [],
   "source": [
    "upload_list = []\n",
    "\n",
    "for index, row in df.iterrows():\n",
    "\n",
    "    asset = {\n",
    "        \"row_data\": row[0],\n",
    "        \"global_key\": row[0],\n",
    "        \"media_type\": \"IMAGE\",\n",
    "        \"metadata_fields\": [{\"name\": \"XML\", \"value\": row[1]}, {\"name\": \"x_grid\", \"value\": row[3]}, {\"name\": \"y_grid\", \"value\": row[4]}]\n",
    "    }\n",
    "    \n",
    "    upload_list.append(asset)\n"
   ]
  },
  {
   "cell_type": "code",
   "execution_count": 54,
   "metadata": {},
   "outputs": [
    {
     "name": "stdout",
     "output_type": "stream",
     "text": [
      "None\n"
     ]
    }
   ],
   "source": [
    "task = dataset.create_data_rows(upload_list)\n",
    "task.wait_till_done()\n",
    "print(task.errors)"
   ]
  },
  {
   "cell_type": "markdown",
   "metadata": {},
   "source": []
  }
 ],
 "metadata": {
  "kernelspec": {
   "display_name": "lb_env",
   "language": "python",
   "name": "python3"
  },
  "language_info": {
   "codemirror_mode": {
    "name": "ipython",
    "version": 3
   },
   "file_extension": ".py",
   "mimetype": "text/x-python",
   "name": "python",
   "nbconvert_exporter": "python",
   "pygments_lexer": "ipython3",
   "version": "3.11.5"
  },
  "orig_nbformat": 4
 },
 "nbformat": 4,
 "nbformat_minor": 2
}
