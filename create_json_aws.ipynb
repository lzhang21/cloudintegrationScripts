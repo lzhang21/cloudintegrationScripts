{
 "cells": [
  {
   "cell_type": "markdown",
   "metadata": {},
   "source": [
    "###  This Script Uses the LabelBox SDK and the AWS Python SDK to bulk import S3 objects to Labelbox"
   ]
  },
  {
   "cell_type": "code",
   "execution_count": 1,
   "metadata": {},
   "outputs": [],
   "source": [
    "import boto3\n",
    "import os\n",
    "from dotenv import load_dotenv\n",
    "import json"
   ]
  },
  {
   "cell_type": "code",
   "execution_count": 3,
   "metadata": {},
   "outputs": [],
   "source": [
    "# set variables\n",
    "load_dotenv()\n",
    "name = 'lb-luzhang' # bucket name\n",
    "access_key = os.environ.get(\"AWS_ACCESS_KEY_ID\")\n",
    "secret_access_key = os.environ.get(\"AWS_SECRET_ACCESS_KEY\")\n",
    "region = os.environ.get(\"AWS_DEFAULT_REGION\")\n",
    "lbx_API = os.environ.get('LABELBOX_API')"
   ]
  },
  {
   "cell_type": "code",
   "execution_count": 5,
   "metadata": {},
   "outputs": [
    {
     "name": "stdout",
     "output_type": "stream",
     "text": [
      "s3.ServiceResource()\n",
      "s3.Bucket(name='lb-luzhang')\n"
     ]
    }
   ],
   "source": [
    "# initiate AWS session \n",
    "session = boto3.Session(\n",
    "    aws_access_key_id=access_key,\n",
    "    aws_secret_access_key=secret_access_key,\n",
    ")\n",
    "\n",
    "s3_resource = session.resource('s3')\n",
    "bucket = s3_resource.Bucket(name)\n",
    "\n",
    "print(s3_resource)\n",
    "print(bucket)"
   ]
  },
  {
   "cell_type": "code",
   "execution_count": 26,
   "metadata": {},
   "outputs": [],
   "source": [
    "# extract all object keys (file names), convert to json format\n",
    "\n",
    "object_keys = [\"https://\"+ name + \".s3.us-east-1.amazonaws.com/\"+obj.key for obj in bucket.objects.all() if \".png\" in obj.key]\n",
    "output_dicts = [{'data': value} for value in object_keys][:300]\n"
   ]
  },
  {
   "cell_type": "code",
   "execution_count": 27,
   "metadata": {},
   "outputs": [],
   "source": [
    "# option 1: create json / Upload to Labelbox\n",
    "\n",
    "file_path = \"./s3_output_crowd.json\"\n",
    "\n",
    "# Write the data to the JSON file\n",
    "with open(file_path, \"w\") as json_file:\n",
    "    json.dump(output_dicts, json_file)\n"
   ]
  },
  {
   "cell_type": "code",
   "execution_count": 18,
   "metadata": {},
   "outputs": [],
   "source": [
    "# option 2: Publish via SDK\n",
    "\n",
    "import labelbox as lb\n",
    "import datetime\n",
    "\n",
    "client = lb.Client(api_key=lbx_API)\n",
    "dataset = client.create_dataset(name=\"S3_Bulk\")"
   ]
  },
  {
   "cell_type": "code",
   "execution_count": 23,
   "metadata": {},
   "outputs": [
    {
     "name": "stdout",
     "output_type": "stream",
     "text": [
      "None\n"
     ]
    }
   ],
   "source": [
    "object_keys = [\"https://\"+ name + \".s3.us-east-1.amazonaws.com/\"+obj.key for obj in bucket.objects.all() if \".png\" in obj.key]\n",
    "sdk_dict = [{'row_data': value} for value in object_keys]\n",
    "\n",
    "task = dataset.create_data_rows(sdk_dict)\n",
    "\n",
    "task.wait_till_done()\n",
    "print(task.errors)"
   ]
  }
 ],
 "metadata": {
  "kernelspec": {
   "display_name": "lb_env",
   "language": "python",
   "name": "python3"
  },
  "language_info": {
   "codemirror_mode": {
    "name": "ipython",
    "version": 3
   },
   "file_extension": ".py",
   "mimetype": "text/x-python",
   "name": "python",
   "nbconvert_exporter": "python",
   "pygments_lexer": "ipython3",
   "version": "3.11.5"
  },
  "orig_nbformat": 4
 },
 "nbformat": 4,
 "nbformat_minor": 2
}
